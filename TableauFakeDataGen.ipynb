{
 "cells": [
  {
   "cell_type": "markdown",
   "id": "cd02929a-b645-4ae3-bcd8-b684e84712c6",
   "metadata": {},
   "source": [
    "### Data Generating"
   ]
  },
  {
   "cell_type": "markdown",
   "id": "e974c87e-643a-48b0-9c3b-8d0f14794703",
   "metadata": {},
   "source": [
    "In this notebook I will generate data using LLM. The main idea is to generate fake data to use it in my Tableau project.  \n",
    "The story of the data as follows: there are two companies that produce mobile games. The first company has 6 projects: 2 project are mature and profitable, 1 project is promissing and started recently started to generate revenue, 1 project is in the decline phase, 2 projects are under development. The second company has 3 projects: 1 is mature and profitable and the other two are under development. I want to create a Tableau dashboard that will provide insights on financial overview of the two companies. This dashboard could be used by owners of the investments, so thay can see how many project they have, which is profitable, how much money they have and so on. the second dashboard will be more detailed, which will provide insights about what are the main financial metrics and their change compared to previous period"
   ]
  },
  {
   "cell_type": "code",
   "execution_count": 2,
   "id": "339054e8-1d84-4456-baa4-f188236306f3",
   "metadata": {},
   "outputs": [],
   "source": [
    "import pandas as pd\n",
    "import numpy as np\n",
    "import random\n",
    "from langchain.chat_models import ChatOpenAI\n",
    "\n",
    "llm = ChatOpenAI(openai_api_key=openapikey)"
   ]
  },
  {
   "cell_type": "markdown",
   "id": "5ea7874f-a933-4c01-a34c-3de054030b6d",
   "metadata": {},
   "source": [
    "### Generate first names of employees"
   ]
  },
  {
   "cell_type": "code",
   "execution_count": 16,
   "id": "1e217608-5f02-4980-b918-4592423f32f1",
   "metadata": {},
   "outputs": [],
   "source": [
    "first_names = llm.invoke('generate python list of 50 firstnames. Return only python list')"
   ]
  },
  {
   "cell_type": "code",
   "execution_count": 19,
   "id": "2a28df76-ee11-4976-a3a9-3857a31faeef",
   "metadata": {},
   "outputs": [
    {
     "name": "stdout",
     "output_type": "stream",
     "text": [
      "firstnames = [\n",
      "    \"Emma\", \"Olivia\", \"Ava\", \"Isabella\", \"Sophia\", \"Charlotte\", \"Mia\", \"Amelia\", \"Harper\", \"Evelyn\",\n",
      "    \"Liam\", \"Noah\", \"Oliver\", \"William\", \"Elijah\", \"James\", \"Benjamin\", \"Lucas\", \"Henry\", \"Alexander\",\n",
      "    \"Michael\", \"Ethan\", \"Daniel\", \"Matthew\", \"Aiden\", \"Joseph\", \"Samuel\", \"Sebastian\", \"David\", \"Carter\",\n",
      "    \"Jackson\", \"Wyatt\", \"Jayden\", \"John\", \"Owen\", \"Dylan\", \"Luke\", \"Gabriel\", \"Anthony\", \"Isaac\",\n",
      "    \"Grayson\", \"Jack\", \"Julian\", \"Levi\", \"Christopher\", \"Joshua\", \"Andrew\", \"Lincoln\", \"Mateo\", \"Ryan\"\n",
      "]\n",
      "\n",
      "print(firstnames)\n"
     ]
    }
   ],
   "source": [
    "print(first_names.content)"
   ]
  },
  {
   "cell_type": "markdown",
   "id": "833b6cb2-1b48-4619-9414-ea5240566659",
   "metadata": {},
   "source": [
    "### Generate last names of employees"
   ]
  },
  {
   "cell_type": "code",
   "execution_count": 20,
   "id": "4813508d-0a20-4f52-be69-83213e43c8af",
   "metadata": {},
   "outputs": [],
   "source": [
    "last_names = llm.invoke('generate python list of 50 lastnames. Return only python list')"
   ]
  },
  {
   "cell_type": "code",
   "execution_count": 21,
   "id": "81f35bff-8b86-4a61-8a40-adf46074bb7a",
   "metadata": {},
   "outputs": [
    {
     "name": "stdout",
     "output_type": "stream",
     "text": [
      "lastnames = [\"Smith\", \"Johnson\", \"Williams\", \"Jones\", \"Brown\", \"Davis\", \"Miller\", \"Wilson\", \"Moore\", \"Taylor\", \"Anderson\", \"Thomas\", \"Jackson\", \"White\", \"Harris\", \"Martin\", \"Thompson\", \"Garcia\", \"Martinez\", \"Robinson\", \"Clark\", \"Rodriguez\", \"Lewis\", \"Lee\", \"Walker\", \"Hall\", \"Allen\", \"Young\", \"Hernandez\", \"King\", \"Wright\", \"Lopez\", \"Hill\", \"Scott\", \"Green\", \"Adams\", \"Baker\", \"Nelson\", \"Carter\", \"Mitchell\", \"Perez\", \"Roberts\", \"Turner\", \"Phillips\", \"Campbell\", \"Parker\", \"Evans\", \"Edwards\", \"Collins\", \"Stewart\"]\n",
      "\n",
      "print(lastnames)\n"
     ]
    }
   ],
   "source": [
    "print(last_names.content)"
   ]
  },
  {
   "cell_type": "markdown",
   "id": "f9993f16-2350-4e09-9862-e976c139a98a",
   "metadata": {},
   "source": [
    "### Generate Game names"
   ]
  },
  {
   "cell_type": "code",
   "execution_count": 40,
   "id": "2362d950-6a6f-4829-b4c9-7c1ceecffa59",
   "metadata": {},
   "outputs": [],
   "source": [
    "game_names = llm.invoke('list of not existing 9 mobile game names.Return only python list with names')"
   ]
  },
  {
   "cell_type": "code",
   "execution_count": 41,
   "id": "1652be50-d8d0-454a-9aca-a07ba1b064a9",
   "metadata": {},
   "outputs": [
    {
     "name": "stdout",
     "output_type": "stream",
     "text": [
      "Here is a Python list with nine randomly generated non-existing mobile game names:\n",
      "\n",
      "```python\n",
      "game_names = ['Cyberverse Conquest', 'Nebula Rumble', 'Phantom Runners', 'Pixel Odyssey', 'Galactic Blitz', 'Mystic Maze', 'Zombie Zapper', 'Cosmic Clash', 'Enchanted Enigma']\n",
      "```\n",
      "\n",
      "Please note that these game names are randomly generated and do not represent actual mobile games.\n"
     ]
    }
   ],
   "source": [
    "print(game_names.content)"
   ]
  },
  {
   "cell_type": "markdown",
   "id": "c23d65e6-9acd-4c76-b7d6-263eedc24f5a",
   "metadata": {},
   "source": [
    "### Generate positions"
   ]
  },
  {
   "cell_type": "code",
   "execution_count": 44,
   "id": "de7bd400-1548-49ee-834d-054774a8f972",
   "metadata": {},
   "outputs": [],
   "source": [
    "simplified_positions = llm.invoke('list of 10 simplified_positions in game development industry .Return only python list. Positions should not include the word Game')"
   ]
  },
  {
   "cell_type": "code",
   "execution_count": 45,
   "id": "f299a47d-066a-4426-8e4c-07882f250e48",
   "metadata": {},
   "outputs": [
    {
     "name": "stdout",
     "output_type": "stream",
     "text": [
      "['Software Engineer', \n",
      " 'UI/UX Designer', \n",
      " 'Game Designer', \n",
      " 'Level Designer', \n",
      " 'Producer', \n",
      " 'QA Tester', \n",
      " 'Art Director', \n",
      " 'Animator', \n",
      " 'Sound Designer', \n",
      " 'Technical Artist']\n"
     ]
    }
   ],
   "source": [
    "print(simplified_positions.content)"
   ]
  },
  {
   "cell_type": "code",
   "execution_count": 99,
   "id": "b86fe864-f9d7-488a-b064-3d198ff2ef09",
   "metadata": {},
   "outputs": [],
   "source": [
    "# Sample first and last names for generation\n",
    "first_names = [\n",
    "    \"Emma\", \"Olivia\", \"Ava\", \"Isabella\", \"Sophia\", \"Charlotte\", \"Mia\", \"Amelia\", \"Harper\", \"Evelyn\",\n",
    "    \"Liam\", \"Noah\", \"Oliver\", \"William\", \"Elijah\", \"James\", \"Benjamin\", \"Lucas\", \"Henry\", \"Alexander\",\n",
    "    \"Michael\", \"Ethan\", \"Daniel\", \"Matthew\", \"Aiden\", \"Joseph\", \"Samuel\", \"Sebastian\", \"David\", \"Carter\",\n",
    "    \"Jackson\", \"Wyatt\", \"Jayden\", \"John\", \"Owen\", \"Dylan\", \"Luke\", \"Gabriel\", \"Anthony\", \"Isaac\",\n",
    "    \"Grayson\", \"Jack\", \"Julian\", \"Levi\", \"Christopher\", \"Joshua\", \"Andrew\", \"Lincoln\", \"Mateo\", \"Ryan\"\n",
    "]\n",
    "\n",
    "last_names = [\"Smith\", \"Johnson\", \"Williams\", \"Jones\", \"Brown\", \"Davis\", \"Miller\", \"Wilson\", \"Moore\", \"Taylor\", \n",
    "              \"Anderson\", \"Thomas\", \"Jackson\", \"White\", \"Harris\", \"Martin\", \"Thompson\", \"Garcia\", \"Martinez\", \n",
    "              \"Robinson\", \"Clark\", \"Rodriguez\", \"Lewis\", \"Lee\", \"Walker\", \"Hall\", \"Allen\", \"Young\", \"Hernandez\", \n",
    "              \"King\", \"Wright\", \"Lopez\", \"Hill\", \"Scott\", \"Green\", \"Adams\", \"Baker\", \"Nelson\", \"Carter\", \"Mitchell\", \n",
    "              \"Perez\", \"Roberts\", \"Turner\", \"Phillips\", \"Campbell\", \"Parker\", \"Evans\", \"Edwards\", \"Collins\", \"Stewart\"]\n",
    "\n",
    "# List of mobile game names\n",
    "game_names = ['Cyberverse Conquest', \n",
    "              'Nebula Rumble', \n",
    "              'Phantom Runners', \n",
    "              'Pixel Odyssey', \n",
    "              'Galactic Blitz', \n",
    "              'Mystic Maze', \n",
    "              'Zombie Zapper', \n",
    "              'Cosmic Clash', \n",
    "              'Enchanted Enigma']\n",
    "# Simplified positions without seniority levels\n",
    "simplified_positions = ['Software Engineer', \n",
    "                         'UI/UX Designer', \n",
    "                         'Game Designer', \n",
    "                         'Level Designer', \n",
    "                         'Producer', \n",
    "                         'QA Tester', \n",
    "                         'Art Director', \n",
    "                         'Animator', \n",
    "                         'Sound Designer', \n",
    "                         'Technical Artist']\n",
    "# Seniority levels, replacing 'Intermediate' with 'Middle'\n",
    "seniority_levels = [\"Junior\", \"Middle\", \"Senior\", \"Lead\"]\n",
    "\n",
    "# Creating a set to keep track of all used names\n",
    "all_used_names = set()\n",
    "\n",
    "# Function to generate 50 unique names per game, ensuring no repetition across all games\n",
    "def generate_unique_names():\n",
    "    unique_names = []\n",
    "    while len(unique_names) < 50:\n",
    "        name = f\"{random.choice(first_names)} {random.choice(last_names)}\"\n",
    "        if name not in all_used_names:\n",
    "            unique_names.append(name)\n",
    "            all_used_names.add(name)\n",
    "    return unique_names\n",
    "\n",
    "# Generating unique names for each game\n",
    "unique_game_names_dict = {game: generate_unique_names() for game in game_names}\n",
    "\n",
    "data = [(game, name) for game in unique_game_names_dict for name in unique_game_names_dict[game]]\n",
    "\n",
    "# Creating the DataFrame\n",
    "df = pd.DataFrame(data, columns=[\"Game\", \"Counterparty\"])\n",
    "\n",
    "# Displaying the first few rows of the DataFrame\n",
    "df['position'] = [random.choice(simplified_positions) for _ in range(df.shape[0])]\n",
    "df['Seniority'] = [random.choice(seniority_levels) for _ in range(df.shape[0])]\n",
    "seniority_map = {'Middle':2, 'Lead':3, 'Senior':2.5, 'Junior':1}\n",
    "df = df.assign(rang = df['Seniority'].map(seniority_map))\n",
    "df['Salary'] = np.random.normal(2000, 50, df.shape[0])* df['rang'] \n",
    "staff = df"
   ]
  },
  {
   "cell_type": "code",
   "execution_count": 100,
   "id": "cfb7c04a-a227-43b1-a02f-4d95a623eab6",
   "metadata": {},
   "outputs": [
    {
     "data": {
      "text/html": [
       "<div>\n",
       "<style scoped>\n",
       "    .dataframe tbody tr th:only-of-type {\n",
       "        vertical-align: middle;\n",
       "    }\n",
       "\n",
       "    .dataframe tbody tr th {\n",
       "        vertical-align: top;\n",
       "    }\n",
       "\n",
       "    .dataframe thead th {\n",
       "        text-align: right;\n",
       "    }\n",
       "</style>\n",
       "<table border=\"1\" class=\"dataframe\">\n",
       "  <thead>\n",
       "    <tr style=\"text-align: right;\">\n",
       "      <th></th>\n",
       "      <th>Game</th>\n",
       "      <th>Counterparty</th>\n",
       "      <th>position</th>\n",
       "      <th>Seniority</th>\n",
       "      <th>rang</th>\n",
       "      <th>Salary</th>\n",
       "    </tr>\n",
       "  </thead>\n",
       "  <tbody>\n",
       "    <tr>\n",
       "      <th>0</th>\n",
       "      <td>Cyberverse Conquest</td>\n",
       "      <td>Harper Phillips</td>\n",
       "      <td>Level Designer</td>\n",
       "      <td>Senior</td>\n",
       "      <td>2.5</td>\n",
       "      <td>5106.625620</td>\n",
       "    </tr>\n",
       "    <tr>\n",
       "      <th>1</th>\n",
       "      <td>Cyberverse Conquest</td>\n",
       "      <td>John Garcia</td>\n",
       "      <td>Software Engineer</td>\n",
       "      <td>Junior</td>\n",
       "      <td>1.0</td>\n",
       "      <td>2032.824639</td>\n",
       "    </tr>\n",
       "    <tr>\n",
       "      <th>2</th>\n",
       "      <td>Cyberverse Conquest</td>\n",
       "      <td>Wyatt Stewart</td>\n",
       "      <td>Game Designer</td>\n",
       "      <td>Senior</td>\n",
       "      <td>2.5</td>\n",
       "      <td>5004.588557</td>\n",
       "    </tr>\n",
       "    <tr>\n",
       "      <th>3</th>\n",
       "      <td>Cyberverse Conquest</td>\n",
       "      <td>Jackson Taylor</td>\n",
       "      <td>Producer</td>\n",
       "      <td>Lead</td>\n",
       "      <td>3.0</td>\n",
       "      <td>5675.483175</td>\n",
       "    </tr>\n",
       "    <tr>\n",
       "      <th>4</th>\n",
       "      <td>Cyberverse Conquest</td>\n",
       "      <td>John Robinson</td>\n",
       "      <td>UI/UX Designer</td>\n",
       "      <td>Lead</td>\n",
       "      <td>3.0</td>\n",
       "      <td>6012.711429</td>\n",
       "    </tr>\n",
       "    <tr>\n",
       "      <th>...</th>\n",
       "      <td>...</td>\n",
       "      <td>...</td>\n",
       "      <td>...</td>\n",
       "      <td>...</td>\n",
       "      <td>...</td>\n",
       "      <td>...</td>\n",
       "    </tr>\n",
       "    <tr>\n",
       "      <th>445</th>\n",
       "      <td>Enchanted Enigma</td>\n",
       "      <td>Oliver Davis</td>\n",
       "      <td>UI/UX Designer</td>\n",
       "      <td>Middle</td>\n",
       "      <td>2.0</td>\n",
       "      <td>4088.966744</td>\n",
       "    </tr>\n",
       "    <tr>\n",
       "      <th>446</th>\n",
       "      <td>Enchanted Enigma</td>\n",
       "      <td>Jack Davis</td>\n",
       "      <td>Level Designer</td>\n",
       "      <td>Middle</td>\n",
       "      <td>2.0</td>\n",
       "      <td>3876.818562</td>\n",
       "    </tr>\n",
       "    <tr>\n",
       "      <th>447</th>\n",
       "      <td>Enchanted Enigma</td>\n",
       "      <td>Amelia Jones</td>\n",
       "      <td>Software Engineer</td>\n",
       "      <td>Lead</td>\n",
       "      <td>3.0</td>\n",
       "      <td>6054.364231</td>\n",
       "    </tr>\n",
       "    <tr>\n",
       "      <th>448</th>\n",
       "      <td>Enchanted Enigma</td>\n",
       "      <td>Amelia Rodriguez</td>\n",
       "      <td>UI/UX Designer</td>\n",
       "      <td>Lead</td>\n",
       "      <td>3.0</td>\n",
       "      <td>5836.240620</td>\n",
       "    </tr>\n",
       "    <tr>\n",
       "      <th>449</th>\n",
       "      <td>Enchanted Enigma</td>\n",
       "      <td>Carter Smith</td>\n",
       "      <td>QA Tester</td>\n",
       "      <td>Lead</td>\n",
       "      <td>3.0</td>\n",
       "      <td>5935.070286</td>\n",
       "    </tr>\n",
       "  </tbody>\n",
       "</table>\n",
       "<p>450 rows × 6 columns</p>\n",
       "</div>"
      ],
      "text/plain": [
       "                    Game      Counterparty           position Seniority  rang  \\\n",
       "0    Cyberverse Conquest   Harper Phillips     Level Designer    Senior   2.5   \n",
       "1    Cyberverse Conquest       John Garcia  Software Engineer    Junior   1.0   \n",
       "2    Cyberverse Conquest     Wyatt Stewart      Game Designer    Senior   2.5   \n",
       "3    Cyberverse Conquest    Jackson Taylor           Producer      Lead   3.0   \n",
       "4    Cyberverse Conquest     John Robinson     UI/UX Designer      Lead   3.0   \n",
       "..                   ...               ...                ...       ...   ...   \n",
       "445     Enchanted Enigma      Oliver Davis     UI/UX Designer    Middle   2.0   \n",
       "446     Enchanted Enigma        Jack Davis     Level Designer    Middle   2.0   \n",
       "447     Enchanted Enigma      Amelia Jones  Software Engineer      Lead   3.0   \n",
       "448     Enchanted Enigma  Amelia Rodriguez     UI/UX Designer      Lead   3.0   \n",
       "449     Enchanted Enigma      Carter Smith          QA Tester      Lead   3.0   \n",
       "\n",
       "          Salary  \n",
       "0    5106.625620  \n",
       "1    2032.824639  \n",
       "2    5004.588557  \n",
       "3    5675.483175  \n",
       "4    6012.711429  \n",
       "..           ...  \n",
       "445  4088.966744  \n",
       "446  3876.818562  \n",
       "447  6054.364231  \n",
       "448  5836.240620  \n",
       "449  5935.070286  \n",
       "\n",
       "[450 rows x 6 columns]"
      ]
     },
     "execution_count": 100,
     "metadata": {},
     "output_type": "execute_result"
    }
   ],
   "source": [
    "staff"
   ]
  },
  {
   "cell_type": "code",
   "execution_count": 101,
   "id": "958cbb9f-068e-4b64-ab5b-2e142460cffb",
   "metadata": {},
   "outputs": [],
   "source": [
    "def ops_main(date, revenue, margin_ua, product):\n",
    "    months = pd.date_range(date, periods=12, freq='M')\n",
    "\n",
    "# Revenue streams\n",
    "    in_game_purchases = np.random.normal(revenue, revenue*0.005, 12)\n",
    "    advertising = np.random.normal(revenue*0.07, revenue*0.07*0.005, 12)\n",
    "\n",
    "    # Costs\n",
    "    marketing_cost = np.random.normal(revenue*margin_ua, revenue*margin_ua*0.005, 12) # Average 15k, standard deviation 3k\n",
    "\n",
    "    # Creating a DataFrame\n",
    "    financial_data = pd.DataFrame({\n",
    "        'Month': months,\n",
    "        'In-game purchases': in_game_purchases,\n",
    "        'Advertising': advertising,\n",
    "        'Marketing': marketing_cost*-1,\n",
    "        'product': product\n",
    "    })\n",
    "    return financial_data\n"
   ]
  },
  {
   "cell_type": "markdown",
   "id": "d1482d16-379a-497a-906d-60d484e07e17",
   "metadata": {},
   "source": [
    "### Generate stores"
   ]
  },
  {
   "cell_type": "code",
   "execution_count": 49,
   "id": "f4915c72-d2e6-4fc5-8667-c8fb4651b2d8",
   "metadata": {},
   "outputs": [],
   "source": [
    "famous_app_stores = llm.invoke('List of the 5 most famous stores for mobile game applications .Return only python list')"
   ]
  },
  {
   "cell_type": "code",
   "execution_count": 50,
   "id": "90fb46ce-1c0a-4131-9de6-5cf22bbb8049",
   "metadata": {},
   "outputs": [
    {
     "name": "stdout",
     "output_type": "stream",
     "text": [
      "['Apple App Store', 'Google Play Store', 'Amazon Appstore', 'Samsung Galaxy Store', 'Microsoft Store']\n"
     ]
    }
   ],
   "source": [
    "print(famous_app_stores.content)"
   ]
  },
  {
   "cell_type": "code",
   "execution_count": 102,
   "id": "00a7fd76-aebe-451f-b5cf-d4bfd5075700",
   "metadata": {},
   "outputs": [],
   "source": [
    "# List of the 5 most famous stores for mobile game applications\n",
    "def inapp(ops, product):\n",
    "    famous_app_stores = ['Apple App Store', 'Google Play Store', 'Amazon Appstore', 'Samsung Galaxy Store', 'Microsoft Store']\n",
    "    pct = [0.40, 0.35, 0.10, 0.08, 0.07]\n",
    "    app_stores = pd.DataFrame({'Counterparty': famous_app_stores, 'pct': pct})\n",
    "    for i in pd.to_datetime(ops['Month']).dt.strftime('%Y-%m-%d').unique():\n",
    "        app_stores[i] = (app_stores['pct']+np.random.normal(0, 0.01)) * ops[ops['Month']==i]['In-game purchases'].values\n",
    "    inapp_df = app_stores.melt(id_vars=['Counterparty'], value_vars=app_stores.columns[-24:], var_name='date', value_name='amount_usd').assign(category='in_app')\n",
    "    inapp_df['Game'] = product\n",
    "    return inapp_df"
   ]
  },
  {
   "cell_type": "markdown",
   "id": "fe89ca6d-878d-4f9c-a976-e032906997be",
   "metadata": {},
   "source": [
    "### Generate ads networks"
   ]
  },
  {
   "cell_type": "code",
   "execution_count": 52,
   "id": "04b4e84d-0552-4653-aad1-07ab63b9859d",
   "metadata": {},
   "outputs": [],
   "source": [
    "popular_ad_networks = llm.invoke('List of the 10 most famous advertising networks for mobile game applications .Return only python list')"
   ]
  },
  {
   "cell_type": "code",
   "execution_count": 53,
   "id": "10eae751-eb8a-445b-9b7a-0292308b5ab4",
   "metadata": {},
   "outputs": [
    {
     "name": "stdout",
     "output_type": "stream",
     "text": [
      "[\"AdMob\", \"Unity Ads\", \"Chartboost\", \"Vungle\", \"AppLovin\", \"IronSource\", \"Tapjoy\", \"AdColony\", \"InMobi\", \"Facebook Audience Network\"]\n"
     ]
    }
   ],
   "source": [
    "print(popular_ad_networks.content)"
   ]
  },
  {
   "cell_type": "code",
   "execution_count": 103,
   "id": "68931c02-613f-44cd-9656-91294b94dd74",
   "metadata": {},
   "outputs": [],
   "source": [
    "def ads(ops, product):\n",
    "    popular_ad_networks = [\"AdMob\", \"Unity Ads\", \"Chartboost\", \"Vungle\", \"AppLovin\", \"IronSource\", \"Tapjoy\", \"AdColony\", \"InMobi\", \"Facebook Audience Network\"]\n",
    "    pct = [0.30, 0.20, 0.05, 0.03, 0.07,0.05,0.10,0.03, 0.04, 0.03]\n",
    "    ads_rev = pd.DataFrame({'Counterparty': popular_ad_networks, 'pct': pct})\n",
    "    for i in pd.to_datetime(ops['Month']).dt.strftime('%Y-%m-%d').unique():\n",
    "        ads_rev[i] = (ads_rev['pct']+np.random.normal(0, 0.01)) * ops[ops['Month']==i]['Advertising'].values\n",
    "    ads_rev = ads_rev.melt(id_vars=['Counterparty'], value_vars=ads_rev.columns[-24:], var_name='date', value_name='amount_usd').assign(category='ads_revenue')\n",
    "    ads_rev['Game'] = product\n",
    "    return ads_rev"
   ]
  },
  {
   "cell_type": "markdown",
   "id": "bdef9277-a657-4eb5-bee9-495edabea4ea",
   "metadata": {},
   "source": [
    "### Generate UA partners"
   ]
  },
  {
   "cell_type": "code",
   "execution_count": 56,
   "id": "fb023b1b-091d-4b42-be26-9029c7bac6db",
   "metadata": {},
   "outputs": [],
   "source": [
    "popular_user_acquisition_networks = llm.invoke('List of the 10 most famous user acquisition networks for mobile game applications .Return only python list')"
   ]
  },
  {
   "cell_type": "code",
   "execution_count": 57,
   "id": "7d833422-0f7b-48bf-b640-b1d84e0e764b",
   "metadata": {},
   "outputs": [
    {
     "name": "stdout",
     "output_type": "stream",
     "text": [
      "['Facebook Ads',\n",
      " 'Google Ads',\n",
      " 'Apple Search Ads',\n",
      " 'Snapchat Ads',\n",
      " 'Twitter Ads',\n",
      " 'AdColony',\n",
      " 'Chartboost',\n",
      " 'Unity Ads',\n",
      " 'IronSource',\n",
      " 'Vungle']\n"
     ]
    }
   ],
   "source": [
    "print(popular_user_acquisition_networks.content)"
   ]
  },
  {
   "cell_type": "code",
   "execution_count": 104,
   "id": "eec2f3a8-1fa2-4852-b80b-f6b16b6bd3bc",
   "metadata": {},
   "outputs": [],
   "source": [
    "# List of the 10 most popular user acquisition networks\n",
    "def ua(ops, product):\n",
    "    popular_user_acquisition_networks = ['Facebook Ads',\n",
    "                                         'Google Ads',\n",
    "                                         'Apple Search Ads',\n",
    "                                         'Snapchat Ads',\n",
    "                                         'Twitter Ads',\n",
    "                                         'AdColony',\n",
    "                                         'Chartboost',\n",
    "                                         'Unity Ads',\n",
    "                                         'IronSource',\n",
    "                                         'Vungle']\n",
    "    pct = [0.30, 0.20, 0.05, 0.03, 0.07,0.05,0.10,0.03, 0.04, 0.03]\n",
    "    ua = pd.DataFrame({'Counterparty': popular_user_acquisition_networks, 'pct': pct})\n",
    "    for i in pd.to_datetime(ops['Month']).dt.strftime('%Y-%m-%d').unique():\n",
    "        ua[i] = (ua['pct']+np.random.normal(0, 0.01)) * ops[ops['Month']==i]['Marketing'].values\n",
    "    ua = ua.melt(id_vars=['Counterparty'], value_vars=ua.columns[-24:], var_name='date', value_name='amount_usd').assign(category='marketing')\n",
    "    ua['Game'] = product\n",
    "    return ua.round(2)\n"
   ]
  },
  {
   "cell_type": "code",
   "execution_count": 105,
   "id": "f49281f6-6206-4794-9dbb-338e08607bf2",
   "metadata": {},
   "outputs": [],
   "source": [
    "def salaries(date, product, nr):\n",
    "    months = pd.date_range(date, periods=12, freq='M')\n",
    "    salaries_df = staff[staff['Game']==product]\n",
    "    salaries_df = salaries_df.sample(nr)\n",
    "    for i in months.astype(str):\n",
    "        salaries_df = salaries_df.assign(**{i:(salaries_df[\"Salary\"] + np.random.normal(0, 50, salaries_df.shape[0]))*-1})\n",
    "    salaries_df = salaries_df.melt(id_vars=['Game', 'Counterparty'], value_vars=salaries_df.columns[-12:], var_name='date', value_name='amount_usd').assign(category='Salaries')\n",
    "    return salaries_df"
   ]
  },
  {
   "cell_type": "markdown",
   "id": "39c74b5b-e102-4157-9a54-d843e7f10168",
   "metadata": {},
   "source": [
    "### Generate licence names"
   ]
  },
  {
   "cell_type": "code",
   "execution_count": 64,
   "id": "98d2c1bf-a8d6-4493-af10-b26c51eff8b5",
   "metadata": {},
   "outputs": [],
   "source": [
    "game_dev_licenses = llm.invoke('List of the 10 famous licenses used in game development industry .Return only python list')"
   ]
  },
  {
   "cell_type": "code",
   "execution_count": 65,
   "id": "b184c234-8cd5-402b-8c24-cd1ecf46ff57",
   "metadata": {},
   "outputs": [
    {
     "name": "stdout",
     "output_type": "stream",
     "text": [
      "['Frostbite', 'Unity', 'Unreal Engine', 'CryEngine', 'Source', 'Havok', 'GameMaker Studio', 'Godot', 'Lumberyard', 'PhyreEngine']\n"
     ]
    }
   ],
   "source": [
    "print(game_dev_licenses.content)"
   ]
  },
  {
   "cell_type": "code",
   "execution_count": 106,
   "id": "17457ae9-70a4-4285-9feb-cec0b6e20246",
   "metadata": {},
   "outputs": [],
   "source": [
    "def lic(date, amount, product):\n",
    "    months = pd.date_range(date, periods=12, freq='M')\n",
    "    game_dev_licenses = ['Frostbite', 'Unity', 'Unreal Engine', 'CryEngine', 'Source', 'Havok', 'GameMaker Studio', 'Godot', 'Lumberyard', 'PhyreEngine']\n",
    "    pct = [0.30, 0.20, 0.05, 0.03, 0.07,0.05,0.10,0.03, 0.04, 0.03]\n",
    "    lic = pd.DataFrame({'Counterparty': game_dev_licenses, 'pct': pct})\n",
    "    for i in months:\n",
    "        lic[i] = (lic['pct']+np.random.normal(0, 0.01)) * (amount+ np.random.normal(0,50))\n",
    "    lic = lic.melt(id_vars=['Counterparty'], value_vars=lic.columns[-12:], var_name='date', value_name='amount_usd').assign(category='licenses')\n",
    "    lic['Game'] = product\n",
    "    lic['date'] = lic['date'].dt.strftime('%Y-%m-%d')\n",
    "    return lic\n"
   ]
  },
  {
   "cell_type": "markdown",
   "id": "3e9a1080-8f49-4d1c-8e3e-08f75fc66b00",
   "metadata": {},
   "source": [
    "### Generate laptop brands"
   ]
  },
  {
   "cell_type": "code",
   "execution_count": 67,
   "id": "373cad79-402c-4d58-bb34-bccca151fe9b",
   "metadata": {},
   "outputs": [],
   "source": [
    "game_dev_laptops = llm.invoke('List of the 10 laptops used in game development industry .Return only python list')"
   ]
  },
  {
   "cell_type": "code",
   "execution_count": 68,
   "id": "e6b6520f-c593-4ba1-ad0b-1efbbf87affa",
   "metadata": {},
   "outputs": [
    {
     "name": "stdout",
     "output_type": "stream",
     "text": [
      "['Dell XPS 15', 'Apple MacBook Pro', 'Razer Blade 15', 'Asus ROG Zephyrus G14', 'MSI GS66 Stealth', 'Lenovo Legion Y740', 'HP Omen 15', 'Acer Predator Helios 300', 'Gigabyte Aero 15', 'Alienware m15']\n"
     ]
    }
   ],
   "source": [
    "print(game_dev_laptops.content)"
   ]
  },
  {
   "cell_type": "code",
   "execution_count": 107,
   "id": "346c4821-3866-40f1-8b6c-4a8309d58a53",
   "metadata": {},
   "outputs": [],
   "source": [
    "def lap(date, amount, product):\n",
    "    months = pd.date_range(date, periods=12, freq='M')\n",
    "    game_dev_laptops = ['Dell XPS 15', 'Apple MacBook Pro', 'Razer Blade 15', 'Asus ROG Zephyrus G14', 'MSI GS66 Stealth', \n",
    "                        'Lenovo Legion Y740', 'HP Omen 15', 'Acer Predator Helios 300', 'Gigabyte Aero 15', 'Alienware m15']\n",
    "    pct = [0.1, 0.1, 0.1, 0.1, 0.1, 0.1, 0.1, 0.1, 0.1, 0.1]\n",
    "    lap = pd.DataFrame({'Counterparty': game_dev_laptops, 'pct': pct})\n",
    "    for i in months:\n",
    "        lap[i] = (lap['pct']+np.random.normal(0, 0.001)) * (amount+ np.random.normal(0,50))\n",
    "    lap = lap.melt(id_vars=['Counterparty'], value_vars=lap.columns[-12:], var_name='date', value_name='amount_usd').assign(category='laptops')\n",
    "    lap['Game'] = product\n",
    "    lap['date'] = lap['date'].dt.strftime('%Y-%m-%d')\n",
    "    return lap\n"
   ]
  },
  {
   "cell_type": "markdown",
   "id": "87ac9dc9-10ed-4785-b0c3-d3679989bf32",
   "metadata": {},
   "source": [
    "### Generate names of companies"
   ]
  },
  {
   "cell_type": "code",
   "execution_count": 77,
   "id": "a49143ae-c13b-4970-8fa0-feff210885d5",
   "metadata": {},
   "outputs": [],
   "source": [
    "investments = llm.invoke('Create ten appealing names for game development companies .Return only python list')"
   ]
  },
  {
   "cell_type": "code",
   "execution_count": 78,
   "id": "182b7291-e15d-4c02-b258-fb18888426ef",
   "metadata": {},
   "outputs": [
    {
     "name": "stdout",
     "output_type": "stream",
     "text": [
      "['PixelForge Games', \n",
      "'Infinity Interactive', \n",
      "'Nebula Studios', \n",
      "'CodeCraft Games', \n",
      "'Dreamscape Entertainment', \n",
      "'ByteBlast Games', \n",
      "'Enigma Interactive', \n",
      "'Phoenix Rising Studios', \n",
      "'Vortex Gaming', \n",
      "'Luminary Labs']\n"
     ]
    }
   ],
   "source": [
    "print(investments.content)"
   ]
  },
  {
   "cell_type": "code",
   "execution_count": 108,
   "id": "0f7db18c-f7ca-479b-b4bb-e9738cf30815",
   "metadata": {},
   "outputs": [],
   "source": [
    "Dreamscape_Entertainment  = [\n",
    "    'Cyberverse Conquest', # mature profitable\n",
    "    'Nebula Rumble', # mature profitable\n",
    "    'Phantom Runners', # new not profitable promissing\n",
    "    'Galactic Blitz', # mature not profitable\n",
    "    'Mystic Maze', # development\n",
    "    'Zombie Zapper'] # development\n",
    "PixelForge_Games = [ \n",
    "    'Pixel Odyssey', # mature profitable\n",
    "    'Cosmic Clash', # development\n",
    "    'Enchanted Enigma' # development\n",
    "]"
   ]
  },
  {
   "cell_type": "markdown",
   "id": "aaa73af7-8c16-43c2-97fc-08ac1603dd23",
   "metadata": {},
   "source": [
    "### Generate Data"
   ]
  },
  {
   "cell_type": "markdown",
   "id": "5441db28-f3e9-449e-bbc0-e08abb0992de",
   "metadata": {},
   "source": [
    "#### Cyberverse Conquest"
   ]
  },
  {
   "cell_type": "code",
   "execution_count": 139,
   "id": "86ccd3df-80b7-40a7-b933-924929008825",
   "metadata": {},
   "outputs": [],
   "source": [
    "product = \"Cyberverse Conquest\"\n",
    "ops = pd.concat([ops_main(date='2022-01-01', revenue=3_000_000, margin_ua=0.8, product=product).round(2),\n",
    "ops_main(date='2023-01-01', revenue=4_000_000, margin_ua=0.7, product=product).round(2)])\n",
    "operations = pd.concat([inapp(ops=ops, product=product), ads(ops=ops, product=product), ua(ops=ops, product=product)]).round(2)\n",
    "salaries_df = pd.concat([salaries(date='2022-01-01', product=product, nr=50).round(2),\n",
    "salaries(date='2023-01-01', product=product, nr=45).round(2)])\n",
    "lic_df = pd.concat([lic(date='2022-01-01',amount=-100000, product=product),\n",
    "                    lic(date='2023-01-01',amount=-100000, product=product)])\n",
    "lap_df = pd.concat([lap(date='2022-01-01', amount=-20000, product=product),\n",
    "                    lap(date='2023-01-01', amount=-20000, product=product)])\n",
    "Cyberverse = pd.concat([operations, salaries_df, lic_df, lap_df]).round(2)"
   ]
  },
  {
   "cell_type": "markdown",
   "id": "2b294d29-b619-43b6-a507-d10d0002abda",
   "metadata": {},
   "source": [
    "#### Nebula Rumble"
   ]
  },
  {
   "cell_type": "code",
   "execution_count": 140,
   "id": "169b62e1-199a-45b1-89ff-056948ea652e",
   "metadata": {},
   "outputs": [],
   "source": [
    "product = \"Nebula Rumble\"\n",
    "ops = pd.concat([ops_main(date='2022-01-01', revenue=7_000_000, margin_ua=0.8, product=product).round(2),\n",
    "ops_main(date='2023-01-01', revenue=6_000_000, margin_ua=0.8, product=product).round(2)])\n",
    "operations = pd.concat([inapp(ops=ops, product=product), ads(ops=ops, product=product), ua(ops=ops, product=product)]).round(2)\n",
    "salaries_df = pd.concat([salaries(date='2022-01-01', product=product, nr=45).round(2),\n",
    "salaries(date='2023-01-01', product=product, nr=37).round(2)])\n",
    "lic_df = pd.concat([lic(date='2022-01-01',amount=-150000, product=product),\n",
    "                    lic(date='2023-01-01',amount=-150000, product=product)])\n",
    "lap_df = pd.concat([lap(date='2022-01-01', amount=-25000, product=product),\n",
    "                    lap(date='2023-01-01', amount=-25000, product=product)])\n",
    "Nebula = pd.concat([operations, salaries_df, lic_df, lap_df]).round(2)"
   ]
  },
  {
   "cell_type": "markdown",
   "id": "ad2b4a8d-c808-481f-9dcb-b2362fd09b1e",
   "metadata": {},
   "source": [
    "#### Phantom Runners"
   ]
  },
  {
   "cell_type": "code",
   "execution_count": 141,
   "id": "6829e738-222b-48c1-ba80-124fc371fd3b",
   "metadata": {},
   "outputs": [],
   "source": [
    "product = \"Phantom Runners\"\n",
    "ops = pd.concat([\n",
    "    ops_main(date='2022-01-01', revenue=500_000, margin_ua=1.3, product=product).round(2),\n",
    "ops_main(date='2023-01-01', revenue=1_000_000, margin_ua=0.8, product=product).round(2)\n",
    "                ])\n",
    "operations = pd.concat([inapp(ops=ops, product=product), ads(ops=ops, product=product), ua(ops=ops, product=product)]).round(2)\n",
    "salaries_df = pd.concat([salaries(date='2022-01-01', product=product, nr=50).round(2),\n",
    "salaries(date='2023-01-01', product=product, nr=50).round(2)])\n",
    "lic_df = pd.concat([lic(date='2022-01-01',amount=-170000, product=product),\n",
    "                    lic(date='2023-01-01',amount=-170000, product=product)])\n",
    "lap_df = pd.concat([lap(date='2022-01-01', amount=-30000, product=product),\n",
    "                    lap(date='2023-01-01', amount=-30000, product=product)])\n",
    "Phantom = pd.concat([operations, salaries_df, lic_df, lap_df]).round(2)"
   ]
  },
  {
   "cell_type": "markdown",
   "id": "c7f5ca4e-cc92-4c22-972a-1d7d106f5f4e",
   "metadata": {},
   "source": [
    "#### Galactic Blitz"
   ]
  },
  {
   "cell_type": "code",
   "execution_count": 142,
   "id": "b7c22e43-251e-491e-8a47-8415e618cc7c",
   "metadata": {},
   "outputs": [],
   "source": [
    "product = \"Galactic Blitz\"\n",
    "ops = pd.concat([\n",
    "    ops_main(date='2022-01-01', revenue=150_000, margin_ua=0, product=product).round(2),\n",
    "ops_main(date='2023-01-01', revenue=100_000, margin_ua=0, product=product).round(2)\n",
    "                ])\n",
    "operations = pd.concat([inapp(ops=ops, product=product), ads(ops=ops, product=product), \n",
    "                        # ua(ops=ops, product=product)\n",
    "                       ]).round(2)\n",
    "salaries_df = pd.concat([salaries(date='2022-01-01', product=product, nr=20).round(2),\n",
    "salaries(date='2023-01-01', product=product, nr=15).round(2)])\n",
    "lic_df = pd.concat([lic(date='2022-01-01',amount=-50000, product=product),\n",
    "                    lic(date='2023-01-01',amount=-50000, product=product)])\n",
    "lap_df = pd.concat([lap(date='2022-01-01', amount=-10000, product=product),\n",
    "                    lap(date='2023-01-01', amount=-10000, product=product)])\n",
    "Galactic = pd.concat([operations, salaries_df, lic_df, lap_df]).round(2)"
   ]
  },
  {
   "cell_type": "markdown",
   "id": "00c5fab6-79e1-408b-9f1b-f6450fba3907",
   "metadata": {},
   "source": [
    "#### Mystic Maze"
   ]
  },
  {
   "cell_type": "code",
   "execution_count": 143,
   "id": "328ed45f-6d65-45a2-965f-6e64bca680fd",
   "metadata": {},
   "outputs": [],
   "source": [
    "product = \"Mystic Maze\"\n",
    "# ops = pd.concat([\n",
    "#     ops_main(date='2022-01-01', revenue=150_000, margin_ua=0, product=product).round(2),\n",
    "# ops_main(date='2023-01-01', revenue=100_000, margin_ua=0, product=product).round(2)\n",
    "#                 ])\n",
    "# operations = pd.concat([inapp(ops=ops, product=product), ads(ops=ops, product=product), \n",
    "#                         # ua(ops=ops, product=product)\n",
    "#                        ]).round(2)\n",
    "salaries_df = pd.concat([salaries(date='2022-01-01', product=product, nr=20).round(2),\n",
    "salaries(date='2023-01-01', product=product, nr=42).round(2)])\n",
    "lic_df = pd.concat([lic(date='2022-01-01',amount=-50000, product=product),\n",
    "                    lic(date='2023-01-01',amount=-150000, product=product)])\n",
    "lap_df = pd.concat([lap(date='2022-01-01', amount=-10000, product=product),\n",
    "                    lap(date='2023-01-01', amount=-30000, product=product)])\n",
    "Mystic = pd.concat([\n",
    "    # operations, \n",
    "    salaries_df, lic_df, lap_df]).round(2)"
   ]
  },
  {
   "cell_type": "markdown",
   "id": "61618a0f-822d-4890-8aed-8872dc12dc9d",
   "metadata": {},
   "source": [
    "#### Zombie Zapper"
   ]
  },
  {
   "cell_type": "code",
   "execution_count": 144,
   "id": "1b37e002-b32e-4568-b8f4-1cf800be8bb9",
   "metadata": {},
   "outputs": [],
   "source": [
    "product = \"Zombie Zapper\"\n",
    "salaries_df = pd.concat([\n",
    "    # salaries(date='2022-01-01', product=product, nr=20).round(2),\n",
    "salaries(date='2023-01-01', product=product, nr=15).round(2)])\n",
    "lic_df = pd.concat([\n",
    "    # lic(date='2022-01-01',amount=-50000, product=product),\n",
    "                    lic(date='2023-01-01',amount=-70000, product=product)])\n",
    "lap_df = pd.concat([\n",
    "    # lap(date='2022-01-01', amount=-10000, product=product),\n",
    "                    lap(date='2023-01-01', amount=-5000, product=product)])\n",
    "Zombie = pd.concat([\n",
    "    # operations, \n",
    "    salaries_df, lic_df, lap_df]).round(2)"
   ]
  },
  {
   "cell_type": "markdown",
   "id": "86b95f35-9777-4cc4-9895-84b16b248332",
   "metadata": {},
   "source": [
    "#### Pixel Odyssey"
   ]
  },
  {
   "cell_type": "code",
   "execution_count": 145,
   "id": "7c78b22b-150a-43f5-99f4-56ab2d6b4e5c",
   "metadata": {},
   "outputs": [],
   "source": [
    "product = \"Pixel Odyssey\"\n",
    "ops = pd.concat([ops_main(date='2022-01-01', revenue=2_000_000, margin_ua=0.8, product=product).round(2),\n",
    "ops_main(date='2023-01-01', revenue=2_200_000, margin_ua=0.8, product=product).round(2)])\n",
    "operations = pd.concat([inapp(ops=ops, product=product), ads(ops=ops, product=product), ua(ops=ops, product=product)]).round(2)\n",
    "salaries_df = pd.concat([salaries(date='2022-01-01', product=product, nr=30).round(2),\n",
    "salaries(date='2023-01-01', product=product, nr=28).round(2)])\n",
    "lic_df = pd.concat([lic(date='2022-01-01',amount=-100000, product=product),\n",
    "                    lic(date='2023-01-01',amount=-100000, product=product)])\n",
    "lap_df = pd.concat([lap(date='2022-01-01', amount=-15000, product=product),\n",
    "                    lap(date='2023-01-01', amount=-15000, product=product)])\n",
    "Pixel = pd.concat([operations, salaries_df, lic_df, lap_df]).round(2)"
   ]
  },
  {
   "cell_type": "markdown",
   "id": "dd9298c3-8c2f-4460-a29b-79d7a743848d",
   "metadata": {},
   "source": [
    "#### Cosmic Clash"
   ]
  },
  {
   "cell_type": "code",
   "execution_count": 146,
   "id": "a845ddb7-f26d-4a85-802d-cedec900895d",
   "metadata": {},
   "outputs": [],
   "source": [
    "product = \"Cosmic Clash\"\n",
    "salaries_df = pd.concat([\n",
    "    # salaries(date='2022-01-01', product=product, nr=20).round(2),\n",
    "salaries(date='2023-01-01', product=product, nr=30).round(2)])\n",
    "lic_df = pd.concat([\n",
    "    # lic(date='2022-01-01',amount=-50000, product=product),\n",
    "                    lic(date='2023-01-01',amount=-100000, product=product)])\n",
    "lap_df = pd.concat([\n",
    "    # lap(date='2022-01-01', amount=-10000, product=product),\n",
    "                    lap(date='2023-01-01', amount=-15000, product=product)])\n",
    "Cosmic = pd.concat([\n",
    "    # operations, \n",
    "    salaries_df, lic_df, lap_df]).round(2)"
   ]
  },
  {
   "cell_type": "markdown",
   "id": "926a9170-50a4-4794-a669-0f3a36d048ca",
   "metadata": {},
   "source": [
    "#### Enchanted Enigma"
   ]
  },
  {
   "cell_type": "code",
   "execution_count": 147,
   "id": "135586d1-903a-47c2-9a46-2732a1ebd326",
   "metadata": {},
   "outputs": [],
   "source": [
    "product = \"Enchanted Enigma\"\n",
    "\n",
    "salaries_df = pd.concat([salaries(date='2022-01-01', product=product, nr=30).round(2),\n",
    "salaries(date='2023-01-01', product=product, nr=45).round(2)])\n",
    "lic_df = pd.concat([lic(date='2022-01-01',amount=-900000, product=product),\n",
    "                    lic(date='2023-01-01',amount=-170000, product=product)])\n",
    "lap_df = pd.concat([lap(date='2022-01-01', amount=-20000, product=product),\n",
    "                    lap(date='2023-01-01', amount=-30000, product=product)])\n",
    "Enchanted = pd.concat([\n",
    "    # operations, \n",
    "    salaries_df, lic_df, lap_df]).round(2)"
   ]
  },
  {
   "cell_type": "code",
   "execution_count": 148,
   "id": "3a9ec7ea-e050-4cb9-963e-edec3e581efb",
   "metadata": {},
   "outputs": [],
   "source": [
    "all_df = pd.concat([Cyberverse, Nebula, Phantom, Galactic, Mystic, Zombie, Pixel, Cosmic, Enchanted])"
   ]
  },
  {
   "cell_type": "code",
   "execution_count": 149,
   "id": "84ed59bd-0e5a-4688-ba68-278d884346d0",
   "metadata": {},
   "outputs": [],
   "source": [
    "all_df['investment'] = np.where(all_df['Game'].isin(Dreamscape_Entertainment), 'Dreamscape Entertainment', 'PixelForge Games')"
   ]
  },
  {
   "cell_type": "code",
   "execution_count": 150,
   "id": "b654b862-f99d-45f1-a402-02bfcfb5d416",
   "metadata": {},
   "outputs": [
    {
     "data": {
      "text/plain": [
       "investment                Game               \n",
       "Dreamscape Entertainment  Cyberverse Conquest    25906941.59\n",
       "                          Galactic Blitz           190766.89\n",
       "                          Mystic Maze            -5817082.05\n",
       "                          Nebula Rumble          49631698.12\n",
       "                          Phantom Runners        -5787065.63\n",
       "                          Zombie Zapper          -1560493.23\n",
       "PixelForge Games          Cosmic Clash           -2962407.40\n",
       "                          Enchanted Enigma      -15660262.65\n",
       "                          Pixel Odyssey          12046032.00\n",
       "Name: amount_usd, dtype: float64"
      ]
     },
     "execution_count": 150,
     "metadata": {},
     "output_type": "execute_result"
    }
   ],
   "source": [
    "all_df.groupby(['investment', 'Game']).amount_usd.sum()"
   ]
  },
  {
   "cell_type": "code",
   "execution_count": 151,
   "id": "e36f74e6-9708-4be6-a91e-f3e3972afa2f",
   "metadata": {},
   "outputs": [
    {
     "data": {
      "text/html": [
       "<div>\n",
       "<style scoped>\n",
       "    .dataframe tbody tr th:only-of-type {\n",
       "        vertical-align: middle;\n",
       "    }\n",
       "\n",
       "    .dataframe tbody tr th {\n",
       "        vertical-align: top;\n",
       "    }\n",
       "\n",
       "    .dataframe thead th {\n",
       "        text-align: right;\n",
       "    }\n",
       "</style>\n",
       "<table border=\"1\" class=\"dataframe\">\n",
       "  <thead>\n",
       "    <tr style=\"text-align: right;\">\n",
       "      <th></th>\n",
       "      <th>Counterparty</th>\n",
       "      <th>date</th>\n",
       "      <th>amount_usd</th>\n",
       "      <th>category</th>\n",
       "      <th>Game</th>\n",
       "      <th>investment</th>\n",
       "    </tr>\n",
       "  </thead>\n",
       "  <tbody>\n",
       "    <tr>\n",
       "      <th>0</th>\n",
       "      <td>Apple App Store</td>\n",
       "      <td>2022-01-31</td>\n",
       "      <td>1192471.25</td>\n",
       "      <td>in_app</td>\n",
       "      <td>Cyberverse Conquest</td>\n",
       "      <td>Dreamscape Entertainment</td>\n",
       "    </tr>\n",
       "    <tr>\n",
       "      <th>1</th>\n",
       "      <td>Google Play Store</td>\n",
       "      <td>2022-01-31</td>\n",
       "      <td>1042360.59</td>\n",
       "      <td>in_app</td>\n",
       "      <td>Cyberverse Conquest</td>\n",
       "      <td>Dreamscape Entertainment</td>\n",
       "    </tr>\n",
       "    <tr>\n",
       "      <th>2</th>\n",
       "      <td>Amazon Appstore</td>\n",
       "      <td>2022-01-31</td>\n",
       "      <td>291807.28</td>\n",
       "      <td>in_app</td>\n",
       "      <td>Cyberverse Conquest</td>\n",
       "      <td>Dreamscape Entertainment</td>\n",
       "    </tr>\n",
       "    <tr>\n",
       "      <th>3</th>\n",
       "      <td>Samsung Galaxy Store</td>\n",
       "      <td>2022-01-31</td>\n",
       "      <td>231763.02</td>\n",
       "      <td>in_app</td>\n",
       "      <td>Cyberverse Conquest</td>\n",
       "      <td>Dreamscape Entertainment</td>\n",
       "    </tr>\n",
       "    <tr>\n",
       "      <th>4</th>\n",
       "      <td>Microsoft Store</td>\n",
       "      <td>2022-01-31</td>\n",
       "      <td>201740.89</td>\n",
       "      <td>in_app</td>\n",
       "      <td>Cyberverse Conquest</td>\n",
       "      <td>Dreamscape Entertainment</td>\n",
       "    </tr>\n",
       "    <tr>\n",
       "      <th>...</th>\n",
       "      <td>...</td>\n",
       "      <td>...</td>\n",
       "      <td>...</td>\n",
       "      <td>...</td>\n",
       "      <td>...</td>\n",
       "      <td>...</td>\n",
       "    </tr>\n",
       "    <tr>\n",
       "      <th>115</th>\n",
       "      <td>Lenovo Legion Y740</td>\n",
       "      <td>2023-12-31</td>\n",
       "      <td>-2996.23</td>\n",
       "      <td>laptops</td>\n",
       "      <td>Enchanted Enigma</td>\n",
       "      <td>PixelForge Games</td>\n",
       "    </tr>\n",
       "    <tr>\n",
       "      <th>116</th>\n",
       "      <td>HP Omen 15</td>\n",
       "      <td>2023-12-31</td>\n",
       "      <td>-2996.23</td>\n",
       "      <td>laptops</td>\n",
       "      <td>Enchanted Enigma</td>\n",
       "      <td>PixelForge Games</td>\n",
       "    </tr>\n",
       "    <tr>\n",
       "      <th>117</th>\n",
       "      <td>Acer Predator Helios 300</td>\n",
       "      <td>2023-12-31</td>\n",
       "      <td>-2996.23</td>\n",
       "      <td>laptops</td>\n",
       "      <td>Enchanted Enigma</td>\n",
       "      <td>PixelForge Games</td>\n",
       "    </tr>\n",
       "    <tr>\n",
       "      <th>118</th>\n",
       "      <td>Gigabyte Aero 15</td>\n",
       "      <td>2023-12-31</td>\n",
       "      <td>-2996.23</td>\n",
       "      <td>laptops</td>\n",
       "      <td>Enchanted Enigma</td>\n",
       "      <td>PixelForge Games</td>\n",
       "    </tr>\n",
       "    <tr>\n",
       "      <th>119</th>\n",
       "      <td>Alienware m15</td>\n",
       "      <td>2023-12-31</td>\n",
       "      <td>-2996.23</td>\n",
       "      <td>laptops</td>\n",
       "      <td>Enchanted Enigma</td>\n",
       "      <td>PixelForge Games</td>\n",
       "    </tr>\n",
       "  </tbody>\n",
       "</table>\n",
       "<p>13224 rows × 6 columns</p>\n",
       "</div>"
      ],
      "text/plain": [
       "                 Counterparty        date  amount_usd category  \\\n",
       "0             Apple App Store  2022-01-31  1192471.25   in_app   \n",
       "1           Google Play Store  2022-01-31  1042360.59   in_app   \n",
       "2             Amazon Appstore  2022-01-31   291807.28   in_app   \n",
       "3        Samsung Galaxy Store  2022-01-31   231763.02   in_app   \n",
       "4             Microsoft Store  2022-01-31   201740.89   in_app   \n",
       "..                        ...         ...         ...      ...   \n",
       "115        Lenovo Legion Y740  2023-12-31    -2996.23  laptops   \n",
       "116                HP Omen 15  2023-12-31    -2996.23  laptops   \n",
       "117  Acer Predator Helios 300  2023-12-31    -2996.23  laptops   \n",
       "118          Gigabyte Aero 15  2023-12-31    -2996.23  laptops   \n",
       "119             Alienware m15  2023-12-31    -2996.23  laptops   \n",
       "\n",
       "                    Game                investment  \n",
       "0    Cyberverse Conquest  Dreamscape Entertainment  \n",
       "1    Cyberverse Conquest  Dreamscape Entertainment  \n",
       "2    Cyberverse Conquest  Dreamscape Entertainment  \n",
       "3    Cyberverse Conquest  Dreamscape Entertainment  \n",
       "4    Cyberverse Conquest  Dreamscape Entertainment  \n",
       "..                   ...                       ...  \n",
       "115     Enchanted Enigma          PixelForge Games  \n",
       "116     Enchanted Enigma          PixelForge Games  \n",
       "117     Enchanted Enigma          PixelForge Games  \n",
       "118     Enchanted Enigma          PixelForge Games  \n",
       "119     Enchanted Enigma          PixelForge Games  \n",
       "\n",
       "[13224 rows x 6 columns]"
      ]
     },
     "execution_count": 151,
     "metadata": {},
     "output_type": "execute_result"
    }
   ],
   "source": [
    "all_df"
   ]
  },
  {
   "cell_type": "code",
   "execution_count": 153,
   "id": "554dbfba-2170-49e5-b1ba-7e44b9e495e7",
   "metadata": {},
   "outputs": [],
   "source": [
    "all_df.to_csv('finance_all.csv', index=False)"
   ]
  }
 ],
 "metadata": {
  "kernelspec": {
   "display_name": "Python 3 (ipykernel)",
   "language": "python",
   "name": "python3"
  },
  "language_info": {
   "codemirror_mode": {
    "name": "ipython",
    "version": 3
   },
   "file_extension": ".py",
   "mimetype": "text/x-python",
   "name": "python",
   "nbconvert_exporter": "python",
   "pygments_lexer": "ipython3",
   "version": "3.8.18"
  }
 },
 "nbformat": 4,
 "nbformat_minor": 5
}
